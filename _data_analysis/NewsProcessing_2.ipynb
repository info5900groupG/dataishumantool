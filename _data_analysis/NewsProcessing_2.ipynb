{
 "cells": [
  {
   "cell_type": "code",
   "execution_count": 1,
   "metadata": {
    "collapsed": false,
    "scrolled": false
   },
   "outputs": [
    {
     "name": "stderr",
     "output_type": "stream",
     "text": [
      "/Users/siqi/anaconda/lib/python2.7/site-packages/nltk/twitter/__init__.py:20: UserWarning: The twython library has not been installed. Some functionality from the twitter package will not be available.\n",
      "  warnings.warn(\"The twython library has not been installed. \"\n"
     ]
    },
    {
     "name": "stdout",
     "output_type": "stream",
     "text": [
      "Done!\n"
     ]
    }
   ],
   "source": [
    "import pandas as pd\n",
    "from sklearn.feature_extraction.text import CountVectorizer\n",
    "import nltk\n",
    "import re\n",
    "\n",
    "punctuation = re.compile(r'[0-9]')\n",
    "from nltk.sentiment.vader import SentimentIntensityAnalyzer\n",
    "sid = SentimentIntensityAnalyzer()\n",
    "\n",
    "def read_data(path):\n",
    "    old_data = pd.DataFrame.from_csv(path)  #take first column as index\n",
    "    train = old_data.head(n=100)\n",
    "    \n",
    "    # combine all the strings of each tuple\n",
    "    train2 = train[['Label']].copy()\n",
    "    \n",
    "    #all the new column\n",
    "#     new_column = []\n",
    "    pos = []\n",
    "    neg = []\n",
    "    compound = []\n",
    "    neutral = []\n",
    "#     example = \"\"\n",
    "    example_list = []\n",
    "    for row in train.itertuples():\n",
    "        for i in range(2,27):\n",
    "#             example = example + row[i]\n",
    "            example_list.append(row[i])\n",
    "        temp1 = \" \"\n",
    "        example = temp1.join(example_list)\n",
    "        \n",
    "        #process example\n",
    "#         print (example)\n",
    "#         example2 = example.lower()\n",
    "        example3 = CountVectorizer().build_tokenizer()(example)\n",
    "        example4 = [punctuation.sub(\"\", word) for word in example3]\n",
    "        temp = \" \"\n",
    "        example5 = temp.join(example4)\n",
    "#         print(example5)\n",
    "        result = sid.polarity_scores(example5)\n",
    "        pos.append(result['pos'])\n",
    "        neg.append(result['neg'])\n",
    "        compound.append(result['compound'])\n",
    "        neutral.append(result['neu'])\n",
    "#         new_column.append(example)\n",
    "#         example = \"\"\n",
    "        example_list = []\n",
    "    \n",
    "#     train2['news']=new_column\n",
    "    train2['pos']=pos\n",
    "    train2['neg']=neg\n",
    "    train2['compound']=compound\n",
    "    train2['neutral']=neutral\n",
    "    return train2\n",
    "\n",
    "data = read_data(\"./Documents/Cornell/Courses/MPS Project/Combined_News_DJIA.csv\")\n",
    "data.to_csv(\"./Documents/Cornell/Courses/MPS Project/data_after_polarity.csv\")\n",
    "print(\"Done!\")\n",
    "\n",
    "\n",
    "\n"
   ]
  },
  {
   "cell_type": "code",
   "execution_count": null,
   "metadata": {
    "collapsed": true
   },
   "outputs": [],
   "source": []
  }
 ],
 "metadata": {
  "anaconda-cloud": {},
  "kernelspec": {
   "display_name": "Python [default]",
   "language": "python",
   "name": "python2"
  },
  "language_info": {
   "codemirror_mode": {
    "name": "ipython",
    "version": 2
   },
   "file_extension": ".py",
   "mimetype": "text/x-python",
   "name": "python",
   "nbconvert_exporter": "python",
   "pygments_lexer": "ipython2",
   "version": "2.7.12"
  }
 },
 "nbformat": 4,
 "nbformat_minor": 1
}
