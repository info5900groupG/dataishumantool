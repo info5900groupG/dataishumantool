{
 "cells": [
  {
   "cell_type": "code",
   "execution_count": 2,
   "metadata": {
    "collapsed": false,
    "scrolled": false
   },
   "outputs": [
    {
     "name": "stdout",
     "output_type": "stream",
     "text": [
      "Done!\n"
     ]
    }
   ],
   "source": [
    "import pandas as pd\n",
    "from sklearn.feature_extraction.text import CountVectorizer\n",
    "import nltk\n",
    "import re\n",
    "\n",
    "punctuation = re.compile(r'[0-9]')\n",
    "from nltk.sentiment.vader import SentimentIntensityAnalyzer\n",
    "sid = SentimentIntensityAnalyzer()\n",
    "\n",
    "def read_data(path):\n",
    "    old_data = pd.DataFrame.from_csv(path)  #take first column as index\n",
    "    train = old_data.head(n=200)\n",
    "    \n",
    "    # combine all the strings of each tuple\n",
    "    train2 = train[['Label']].copy()\n",
    "    \n",
    "    #all the new column\n",
    "#     new_column = []\n",
    "    pos = []\n",
    "    neg = []\n",
    "    compound = []\n",
    "    neutral = []\n",
    "#     example = \"\"\n",
    "    example_list = []\n",
    "    for row in train.itertuples():\n",
    "        for i in range(2,27):\n",
    "#             example = example + row[i]\n",
    "            example_list.append(row[i])\n",
    "        temp1 = \" \"\n",
    "#         print(example_list)\n",
    "        example = temp1.join(example_list)\n",
    "        \n",
    "        #process example\n",
    "#         print (example)\n",
    "#         example2 = example.lower()\n",
    "        example3 = CountVectorizer().build_tokenizer()(example)\n",
    "        example4 = [punctuation.sub(\"\", word) for word in example3]\n",
    "        temp = \" \"\n",
    "        example5 = temp.join(example4)\n",
    "#         print(example5)\n",
    "        result = sid.polarity_scores(example5)\n",
    "        pos.append(result['pos'])\n",
    "        neg.append(result['neg'])\n",
    "        compound.append(result['compound'])\n",
    "        neutral.append(result['neu'])\n",
    "#         new_column.append(example)\n",
    "#         example = \"\"\n",
    "        example_list = []\n",
    "    \n",
    "#     train2['news']=new_column\n",
    "    train2['pos']=pos\n",
    "    train2['neg']=neg\n",
    "    train2['compound']=compound\n",
    "    train2['neutral']=neutral\n",
    "    return train2\n",
    "\n",
    "data = read_data(\"./Documents/Cornell/Courses/MPS Project/Combined_News_DJIA.csv\")\n",
    "data.to_csv(\"./Documents/Cornell/Courses/MPS Project/data_after_polarity.csv\")\n",
    "print(\"Done!\")\n",
    "\n",
    "\n",
    "\n"
   ]
  },
  {
   "cell_type": "code",
   "execution_count": 19,
   "metadata": {
    "collapsed": false
   },
   "outputs": [
    {
     "name": "stdout",
     "output_type": "stream",
     "text": [
      "<class 'pandas.core.frame.DataFrame'>\n",
      "DatetimeIndex: 1989 entries, 2008-08-08 to 2016-07-01\n",
      "Data columns (total 26 columns):\n",
      "Label    1989 non-null int64\n",
      "Top1     1989 non-null object\n",
      "Top2     1989 non-null object\n",
      "Top3     1989 non-null object\n",
      "Top4     1989 non-null object\n",
      "Top5     1989 non-null object\n",
      "Top6     1989 non-null object\n",
      "Top7     1989 non-null object\n",
      "Top8     1989 non-null object\n",
      "Top9     1989 non-null object\n",
      "Top10    1989 non-null object\n",
      "Top11    1989 non-null object\n",
      "Top12    1989 non-null object\n",
      "Top13    1989 non-null object\n",
      "Top14    1989 non-null object\n",
      "Top15    1989 non-null object\n",
      "Top16    1989 non-null object\n",
      "Top17    1989 non-null object\n",
      "Top18    1989 non-null object\n",
      "Top19    1989 non-null object\n",
      "Top20    1989 non-null object\n",
      "Top21    1989 non-null object\n",
      "Top22    1989 non-null object\n",
      "Top23    1989 non-null object\n",
      "Top24    1987 non-null object\n",
      "Top25    1987 non-null object\n",
      "dtypes: int64(1), object(25)\n",
      "memory usage: 419.6+ KB\n"
     ]
    }
   ],
   "source": [
    "train = pd.DataFrame.from_csv(\"./Documents/Cornell/Courses/MPS Project/Combined_News_DJIA.csv\")\n",
    "train.info()"
   ]
  }
 ],
 "metadata": {
  "anaconda-cloud": {},
  "kernelspec": {
   "display_name": "Python [default]",
   "language": "python",
   "name": "python2"
  },
  "language_info": {
   "codemirror_mode": {
    "name": "ipython",
    "version": 2
   },
   "file_extension": ".py",
   "mimetype": "text/x-python",
   "name": "python",
   "nbconvert_exporter": "python",
   "pygments_lexer": "ipython2",
   "version": "2.7.12"
  }
 },
 "nbformat": 4,
 "nbformat_minor": 1
}
